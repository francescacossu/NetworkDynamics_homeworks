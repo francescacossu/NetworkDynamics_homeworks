{
 "cells": [
  {
   "cell_type": "code",
   "execution_count": 1,
   "id": "96bdfdf0",
   "metadata": {},
   "outputs": [],
   "source": [
    "import networkx as nx\n",
    "import numpy as np\n",
    "import matplotlib.pyplot as plt"
   ]
  },
  {
   "cell_type": "markdown",
   "id": "a1728d0e",
   "metadata": {},
   "source": [
    "Exercise 1"
   ]
  },
  {
   "cell_type": "code",
   "execution_count": 2,
   "id": "bb50b6f3",
   "metadata": {},
   "outputs": [],
   "source": [
    "Lambda = [[0, 2/5, 1/5, 0, 0],\n",
    "          [0, 0, 3/4, 1/4, 0],\n",
    "          [1/2, 0, 0, 1/2, 0],\n",
    "          [0, 0, 1/3, 0, 2/3],\n",
    "          [0, 1/3, 0, 1/3, 0]]"
   ]
  },
  {
   "cell_type": "code",
   "execution_count": 3,
   "id": "c10e8f43",
   "metadata": {},
   "outputs": [
    {
     "name": "stdout",
     "output_type": "stream",
     "text": [
      "pi_bar= [0.18518519 0.14814815 0.22222222 0.22222222 0.22222222]\n"
     ]
    }
   ],
   "source": [
    "w = np.sum(Lambda, axis=1)\n",
    "w_star = np.max(w)\n",
    "\n",
    "w = np.sum(Lambda, axis=1)\n",
    "w_star = np.max(w)\n",
    "# compute the off-diagonal part of Q\n",
    "Q = Lambda/w_star \n",
    "# add the diagonal part\n",
    "Q = Q + np.diag(np.ones(len(w))-np.sum(Q,axis=1))\n",
    "\n",
    "# compute dominant eigenvector\n",
    "values,vectors = np.linalg.eig(Q.T)\n",
    "index = np.argmax(values.real)\n",
    "pi_bar = vectors[:,index].real\n",
    "pi_bar = pi_bar/np.sum(pi_bar)\n",
    "print(\"pi_bar=\", pi_bar)\n",
    "\n",
    "nstates = len(pi_bar)"
   ]
  },
  {
   "cell_type": "code",
   "execution_count": 4,
   "id": "d1fdb41f",
   "metadata": {},
   "outputs": [],
   "source": [
    "nstates = len(pi_bar)"
   ]
  },
  {
   "cell_type": "code",
   "execution_count": 5,
   "id": "46a4033b",
   "metadata": {},
   "outputs": [
    {
     "data": {
      "text/plain": [
       "6.750000000000005"
      ]
     },
     "execution_count": 5,
     "metadata": {},
     "output_type": "execute_result"
    }
   ],
   "source": [
    "expected_return_time = 1/(w[1]*pi_bar[1])\n",
    "expected_return_time"
   ]
  },
  {
   "cell_type": "code",
   "execution_count": 6,
   "id": "5ecc4590",
   "metadata": {},
   "outputs": [],
   "source": [
    "w = np.sum(Lambda, axis=1)\n",
    "D = np.diag(w)\n",
    "P = np.linalg.inv(D) @ Lambda"
   ]
  },
  {
   "cell_type": "code",
   "execution_count": 7,
   "id": "5bdf754b",
   "metadata": {},
   "outputs": [
    {
     "name": "stdout",
     "output_type": "stream",
     "text": [
      "Average return-time: 6.494914005596298\n"
     ]
    },
    {
     "data": {
      "text/plain": [
       "Text(0.5, 1.0, 'Trajectory for the first 20 jumps')"
      ]
     },
     "execution_count": 7,
     "metadata": {},
     "output_type": "execute_result"
    },
    {
     "data": {
      "image/png": "[encoded data removed]",
      "text/plain": [
       "<Figure size 432x288 with 1 Axes>"
      ]
     },
     "metadata": {
      "needs_background": "light"
     },
     "output_type": "display_data"
    }
   ],
   "source": [
    "#1.a\n",
    "\n",
    "# set the number of steps in the simulation\n",
    "n_steps = 1000\n",
    "\n",
    "# pos will keep trace of the visited states\n",
    "pos = np.zeros(n_steps, dtype=int)\n",
    "# we start from node a\n",
    "pos[0] = 1\n",
    "# transition_times will store the time instants at which\n",
    "# jumps/transitions happen\n",
    "transition_times = np.zeros(n_steps)\n",
    "\n",
    "t_next = -np.log(np.random.rand())/w[1]\n",
    "\n",
    "sum_t_next=0\n",
    "list_sums=[]\n",
    "for i in range(1,n_steps):\n",
    "\n",
    "    \n",
    "    pos[i] = np.random.choice(nstates, p=P[pos[i-1],:])\n",
    "    if pos[i]!=1:\n",
    "        transition_times[i] = transition_times[i-1] + t_next\n",
    "        # compute the waiting time to the next transition\n",
    "        t_next = -np.log(np.random.rand())/w[pos[i]]\n",
    "        sum_t_next=sum_t_next+t_next\n",
    "    else:\n",
    "        list_sums.append(sum_t_next)\n",
    "        sum_t_next=0\n",
    "\n",
    "tot_sum=sum(list_sums)\n",
    "print(\"Average return-time:\", tot_sum/len(list_sums))\n"
   ]
  },
  {
   "cell_type": "code",
   "execution_count": 8,
   "id": "d398b5e1",
   "metadata": {},
   "outputs": [
    {
     "name": "stdout",
     "output_type": "stream",
     "text": [
      "5.4637655018540245\n"
     ]
    }
   ],
   "source": [
    "# 1.c\n",
    "\n",
    "# set the number of steps in the simulation\n",
    "n_steps = 1000\n",
    "\n",
    "# pos will keep trace of the visited states\n",
    "pos = np.zeros(n_steps, dtype=int)\n",
    "# we start from state 0\n",
    "pos[0] = 0\n",
    "# transition_times will store the time instants at which\n",
    "# jumps/transitions happen\n",
    "transition_times = np.zeros(n_steps)\n",
    "\n",
    "t_next = -np.log(np.random.rand())/w[0]\n",
    "\n",
    "sum_t_next=0\n",
    "list_sums=[]\n",
    "for i in range(1,n_steps):\n",
    "    \n",
    "    pos[i] = np.random.choice(nstates, p=P[pos[i-1],:])\n",
    "    if pos[i]!=4:\n",
    "        transition_times[i] = transition_times[i-1] + t_next\n",
    "        # compute the waiting time to the next transition\n",
    "        t_next = -np.log(np.random.rand())/w[pos[i]]\n",
    "        sum_t_next=sum_t_next+t_next\n",
    "    else:\n",
    "        list_sums.append(sum_t_next)\n",
    "        sum_t_next=0\n",
    "        \n",
    "tot_sum=sum(list_sums)\n",
    "print(tot_sum/len(list_sums))\n"
   ]
  },
  {
   "cell_type": "code",
   "execution_count": 9,
   "id": "8051bf97",
   "metadata": {},
   "outputs": [],
   "source": [
    "#1.e"
   ]
  },
  {
   "cell_type": "code",
   "execution_count": 10,
   "id": "649af1de",
   "metadata": {},
   "outputs": [],
   "source": [
    "W = [[0, 2/5, 1/5, 0, 0],\n",
    "     [0, 0, 3/4, 1/4, 0],\n",
    "     [1/2, 0, 0, 1/2, 0],\n",
    "     [0, 0, 1/3, 0, 2/3],\n",
    "     [0, 1/3, 0, 1/3, 0]]\n"
   ]
  },
  {
   "cell_type": "code",
   "execution_count": 11,
   "id": "088b9a4a",
   "metadata": {},
   "outputs": [
    {
     "name": "stdout",
     "output_type": "stream",
     "text": [
      "Number of nodes: 5\n",
      "['o', 'a', 'b', 'c', 'd']\n"
     ]
    },
    {
     "data": {
      "image/png": "[encoded data removed]",
      "text/plain": [
       "<Figure size 432x288 with 1 Axes>"
      ]
     },
     "metadata": {},
     "output_type": "display_data"
    }
   ],
   "source": [
    "G = nx.DiGraph()\n",
    "G.add_edges_from([('o','a'),('o','b'),('a','b'),('a','c'),('b','o'),('b','c'),('c','b'), ('c','d'),('d','a'),('d','c')])\n",
    "nx.draw(G, node_color = 'palevioletred', with_labels = True, connectionstyle='arc3, rad = 0.1')\n",
    "n_nodes = len(G)\n",
    "print(\"Number of nodes:\", n_nodes)\n",
    "\n",
    "plt.savefig('ex1.svg')\n",
    "print(G.nodes())"
   ]
  },
  {
   "cell_type": "code",
   "execution_count": 12,
   "id": "76cd95a2",
   "metadata": {},
   "outputs": [],
   "source": [
    "G['o']['a']['weigth'] = 2/5\n",
    "G['o']['b']['weigth'] = 1/5\n",
    "G['a']['b']['weigth'] = 3/4\n",
    "G['a']['c']['weigth'] = 1/4\n",
    "G['b']['o']['weigth'] = 1/2\n",
    "G['b']['c']['weigth'] = 1/2\n",
    "G['c']['b']['weigth'] = 1/3\n",
    "G['c']['d']['weigth'] = 2/3\n",
    "G['d']['a']['weigth'] = 1/3\n",
    "G['d']['c']['weigth'] = 1/3"
   ]
  },
  {
   "cell_type": "code",
   "execution_count": 13,
   "id": "de969fe4",
   "metadata": {},
   "outputs": [
    {
     "name": "stdout",
     "output_type": "stream",
     "text": [
      "Number of nodes: 5\n",
      "['o', 'a', 'b', 'c', 'd']\n"
     ]
    }
   ],
   "source": [
    "n_nodes = len(G)\n",
    "print(\"Number of nodes:\", n_nodes)\n",
    "print(G.nodes())"
   ]
  },
  {
   "cell_type": "code",
   "execution_count": 15,
   "id": "a3eb6e06",
   "metadata": {},
   "outputs": [
    {
     "name": "stdout",
     "output_type": "stream",
     "text": [
      "x(100): [0.79323443 0.79323443 0.79323443 0.79323443 0.79323443]\n"
     ]
    }
   ],
   "source": [
    "W = nx.adjacency_matrix(G)\n",
    "W = W.toarray() # convert A to a numpy array\n",
    "degrees = np.sum(W,axis=1)\n",
    "D = np.diag(degrees)\n",
    "P = np.linalg.inv(D) @ W\n",
    "\n",
    "# define initial condition\n",
    "x = np.random.uniform(0,1,n_nodes)\n",
    "\n",
    "for n in range(100):\n",
    "    x = P @ x\n",
    "print(\"x(100):\", x)"
   ]
  },
  {
   "cell_type": "code",
   "execution_count": 17,
   "id": "3fe6b0d2",
   "metadata": {},
   "outputs": [
    {
     "data": {
      "image/png": "[encoded data removed]",
      "text/plain": [
       "<Figure size 504x504 with 1 Axes>"
      ]
     },
     "metadata": {
      "needs_background": "light"
     },
     "output_type": "display_data"
    }
   ],
   "source": [
    "fig = plt.figure(1, figsize=(7,7))\n",
    "ax = plt.subplot(111)\n",
    "\n",
    "for node in range(n_nodes):\n",
    "    trajectory = x[node,:]\n",
    "    ax.plot(trajectory, label='node {0:d}'.format(node))\n",
    "    \n",
    "ax.legend()\n",
    "plt.savefig('ex1f.svg')"
   ]
  },
  {
   "cell_type": "code",
   "execution_count": 18,
   "id": "13d44fca",
   "metadata": {},
   "outputs": [
    {
     "name": "stdout",
     "output_type": "stream",
     "text": [
      "Number of nodes: 5\n",
      "['o', 'a', 'b', 'c', 'd']\n"
     ]
    },
    {
     "data": {
      "image/png": "[encoded data removed]",
      "text/plain": [
       "<Figure size 432x288 with 1 Axes>"
      ]
     },
     "metadata": {},
     "output_type": "display_data"
    }
   ],
   "source": [
    "#punto h\n",
    "F = nx.DiGraph()\n",
    "F.add_edges_from([('o','a'),('o','b'),('a','b'),('a','c'),('b','o'),('b','c'), ('c','d'),('d','c')])\n",
    "nx.draw(F, node_color = 'palevioletred', with_labels = True, connectionstyle='arc3, rad = 0.1')\n",
    "F['o']['a']['weigth'] = 2/5\n",
    "F['o']['b']['weigth'] = 1/5\n",
    "F['a']['b']['weigth'] = 3/4\n",
    "F['a']['c']['weigth'] = 1/4\n",
    "F['b']['o']['weigth'] = 1/2\n",
    "F['b']['c']['weigth'] = 1/2\n",
    "F['c']['d']['weigth'] = 2/3\n",
    "F['d']['c']['weigth'] = 1/3\n",
    "n_nodes = len(F)\n",
    "print(\"Number of nodes:\", n_nodes)\n",
    "\n",
    "\n",
    "print(F.nodes())\n",
    "plt.savefig('ex1h1.svg')"
   ]
  },
  {
   "cell_type": "code",
   "execution_count": 20,
   "id": "a6350a47",
   "metadata": {},
   "outputs": [
    {
     "name": "stdout",
     "output_type": "stream",
     "text": [
      "x(100): [0.94391216 0.88967624 0.83544031 0.99814809 0.80832234]\n"
     ]
    }
   ],
   "source": [
    "W = nx.adjacency_matrix(F)\n",
    "W = W.toarray() # convert A to a numpy array\n",
    "degrees = np.sum(W,axis=1)\n",
    "D = np.diag(degrees)\n",
    "P = np.linalg.inv(D) @ W\n",
    "\n",
    "# define initial condition\n",
    "x = np.random.uniform(0,1,n_nodes)\n",
    "\n",
    "for n in range(100):\n",
    "    x = P @ x\n",
    "print(\"x(100):\", x)"
   ]
  },
  {
   "cell_type": "markdown",
   "id": "402adfcc",
   "metadata": {},
   "source": [
    "Exercise 2"
   ]
  },
  {
   "cell_type": "code",
   "execution_count": null,
   "id": "72d1e72a",
   "metadata": {},
   "outputs": [],
   "source": []
  }
 ],
 "metadata": {
  "kernelspec": {
   "display_name": "Python 3 (ipykernel)",
   "language": "python",
   "name": "python3"
  },
  "language_info": {
   "codemirror_mode": {
    "name": "ipython",
    "version": 3
   },
   "file_extension": ".py",
   "mimetype": "text/x-python",
   "name": "python",
   "nbconvert_exporter": "python",
   "pygments_lexer": "ipython3",
   "version": "3.9.7"
  }
 },
 "nbformat": 4,
 "nbformat_minor": 5
}
