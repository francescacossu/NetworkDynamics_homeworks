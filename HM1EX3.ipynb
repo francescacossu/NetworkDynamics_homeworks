{
 "cells": [
  {
   "cell_type": "code",
   "execution_count": 1,
   "id": "497b8378",
   "metadata": {},
   "outputs": [],
   "source": [
    "import scipy.io\n",
    "import numpy as np\n",
    "import networkx as nx\n",
    "import matplotlib.pyplot as plt\n",
    "import cvxpy as cp"
   ]
  },
  {
   "cell_type": "code",
   "execution_count": 2,
   "id": "98b383fb",
   "metadata": {},
   "outputs": [],
   "source": [
    "f = scipy.io.loadmat('/Users/francescacossu/Downloads/flow.mat')[\"flow\"].reshape(28,)\n",
    "C= scipy.io.loadmat('/Users/francescacossu/Downloads/capacities.mat')[\"capacities\"].reshape(28,)\n",
    "B = scipy.io.loadmat('/Users/francescacossu/Downloads/traffic.mat')[\"traffic\"]\n",
    "l = scipy.io.loadmat('/Users/francescacossu/Downloads/traveltime.mat')[\"traveltime\"].reshape(28,)"
   ]
  },
  {
   "cell_type": "code",
   "execution_count": 3,
   "id": "08bbcd70",
   "metadata": {},
   "outputs": [
    {
     "data": {
      "text/plain": [
       "28"
      ]
     },
     "execution_count": 3,
     "metadata": {},
     "output_type": "execute_result"
    }
   ],
   "source": [
    "n_edges = B.shape[1]\n",
    "n_edges"
   ]
  },
  {
   "cell_type": "markdown",
   "id": "454205cb",
   "metadata": {},
   "source": [
    "__**Question a**__"
   ]
  },
  {
   "cell_type": "markdown",
   "id": "0fb23872",
   "metadata": {},
   "source": [
    "Given a multigraph $(V,E)$, an **exogenous network flow** is a vector ${\\nu} \\in \\mathrm{R}^V$ such that\n",
    "\n",
    "\\begin{equation}\n",
    "\t\\sum_{i \\in V} \\nu_i = 0.\n",
    "\\end{equation}\n",
    "\n",
    "A network flow is a vector $f \\in \\mathrm{R}^E$ satisfying a positivity constraint and a mass conservation constraints, i.e.,\n",
    "\n",
    "\\begin{equation}\n",
    " f \\ge \\mathbf{0}, \\quad Bf = \\nu.\n",
    "\\end{equation}\n",
    "\n",
    "Every edge is endowed with a separable non-decreasing convex cost function $\\psi_e(f_e)$ such that $\\psi_e(0)=0$. \n",
    "\n",
    "Given an exogenous flow $\\nu$ and a network with node-edge matrix $B$, we study the following optimization problem:\n",
    "\n",
    "\\begin{equation}\n",
    "\\begin{aligned}\n",
    "\tf^* \\in \\ & \\underset{\\substack{f \\in \\mathrm{R}^{E}_+ \\\\ B f = \\nu}}{\\arg\\min}\n",
    "\t& & \\sum_{e \\in E} \\psi_e (f_e).\n",
    "\\end{aligned}\n",
    "\\end{equation}\n",
    "\n",
    "The ratio $\\psi_e(f_e) / f_e$ may be interpreted as the cost per unit of flow sent along the edge $e$. The convexity of $\\psi_e(f_e)$ is thus equivalent to requiring that the marginal cost for sending some flow on each edge is non-decreasing in the flow itself.\n",
    "\n",
    "In this case "
   ]
  },
  {
   "cell_type": "code",
   "execution_count": 4,
   "id": "af3eebbe",
   "metadata": {},
   "outputs": [],
   "source": [
    "tau = 1\n",
    "nu = np.zeros(B.shape[0])\n",
    "nu[0] = 1\n",
    "nu[-1] = -1"
   ]
  },
  {
   "cell_type": "code",
   "execution_count": 5,
   "id": "46ceca99",
   "metadata": {},
   "outputs": [],
   "source": [
    "n_edges = B.shape[1]\n",
    "nu = np.zeros(B.shape[0])\n",
    "nu[0] = 1\n",
    "nu[-1] = -1\n",
    "unit_flow = cp.Variable(n_edges)\n",
    "objective = cp.Minimize(l.T @ unit_flow)\n",
    "constraints = [B @ unit_flow == nu, unit_flow>=0]\n",
    "prob = cp.Problem(objective, constraints)\n",
    "flow_cost = prob.solve()\n",
    "\n",
    "flow = np.isclose(unit_flow.value,1).astype(int)"
   ]
  },
  {
   "cell_type": "markdown",
   "id": "9c33ba9a",
   "metadata": {},
   "source": [
    "I use network flow optimization to find the shortest path between node 1 and 17, the equivalent to the fastest path in an empty network"
   ]
  },
  {
   "cell_type": "code",
   "execution_count": 6,
   "id": "4c07747a",
   "metadata": {},
   "outputs": [],
   "source": [
    "unit_flow = cp.Variable(n_edges)\n",
    "objective = cp.Minimize(l.T @ unit_flow)\n",
    "constraints = [B @ unit_flow == nu, unit_flow>=0]\n",
    "prob = cp.Problem(objective, constraints)\n",
    "flow_cost = prob.solve()\n",
    "\n"
   ]
  },
  {
   "cell_type": "code",
   "execution_count": 7,
   "id": "67cc1907",
   "metadata": {},
   "outputs": [
    {
     "data": {
      "text/plain": [
       "array([1.00000000e+00, 1.00000000e+00, 1.19595586e-11, 5.07129566e-12,\n",
       "       1.49988426e-10, 1.33658919e-10, 8.54100951e-11, 3.78266693e-11,\n",
       "       9.99999998e-01, 8.90389208e-12, 3.91753215e-11, 1.00000000e+00,\n",
       "       6.88981434e-12, 5.07752202e-12, 1.62878397e-11, 5.42208640e-11,\n",
       "       1.91831469e-11, 5.71274798e-11, 8.67469798e-11, 1.99611946e-09,\n",
       "       1.29358670e-10, 2.12547935e-09, 4.14939343e-11, 1.16133834e-11,\n",
       "       1.00000000e+00, 4.65871714e-11, 3.08330688e-11, 3.08494486e-11])"
      ]
     },
     "execution_count": 7,
     "metadata": {},
     "output_type": "execute_result"
    }
   ],
   "source": [
    "unit_flow.value"
   ]
  },
  {
   "cell_type": "code",
   "execution_count": 12,
   "id": "edae9dbf",
   "metadata": {},
   "outputs": [
    {
     "name": "stdout",
     "output_type": "stream",
     "text": [
      "Optimal f: [1.00000000e+00 1.00000000e+00 1.19595586e-11 5.07129566e-12\n",
      " 1.49988426e-10 1.33658919e-10 8.54100951e-11 3.78266693e-11\n",
      " 9.99999998e-01 8.90389208e-12 3.91753215e-11 1.00000000e+00\n",
      " 6.88981434e-12 5.07752202e-12 1.62878397e-11 5.42208640e-11\n",
      " 1.91831469e-11 5.71274798e-11 8.67469798e-11 1.99611946e-09\n",
      " 1.29358670e-10 2.12547935e-09 4.14939343e-11 1.16133834e-11\n",
      " 1.00000000e+00 4.65871714e-11 3.08330688e-11 3.08494486e-11]\n"
     ]
    }
   ],
   "source": [
    "unit_flow = cp.Variable(n_edges)\n",
    "objective = cp.Minimize(l.T @ unit_flow)\n",
    "constraints = [B @ unit_flow == nu, unit_flow >=0]\n",
    "prob = cp.Problem(objective, constraints)\n",
    "\n",
    "# The optimal objective value is returned by `prob.solve()`.\n",
    "result = prob.solve()\n",
    "# The optimal value for f is stored in `f.value`.\n",
    "print('Optimal f:', unit_flow.value)"
   ]
  },
  {
   "cell_type": "code",
   "execution_count": 13,
   "id": "7206a831",
   "metadata": {},
   "outputs": [],
   "source": [
    "#In this part of code I define the graph starting from the incidence matrix B\n",
    "def from_incidence(B):\n",
    "    edge_list = []\n",
    "    for j in range(B.shape[1]):\n",
    "        for i in range(B.shape[0]):\n",
    "            if B[i][j] > 0:\n",
    "                head = i+1\n",
    "            if B[i][j] < 0:\n",
    "                edge_list.append((head, i+1))\n",
    "\n",
    "    return edge_list\n",
    "edges = from_incidence(B)\n",
    "G = nx.DiGraph()\n",
    "G.add_edges_from(edges)"
   ]
  },
  {
   "cell_type": "code",
   "execution_count": 17,
   "id": "8335e44d",
   "metadata": {},
   "outputs": [
    {
     "data": {
      "image/png": "[encoded data removed]",
      "text/plain": [
       "<Figure size 432x288 with 1 Axes>"
      ]
     },
     "metadata": {},
     "output_type": "display_data"
    }
   ],
   "source": [
    "pos = {\n",
    "    1: [0,0],\n",
    "    2: [2,0],\n",
    "    3: [4,0],\n",
    "    4: [6,0],\n",
    "    5: [8,0],\n",
    "    6: [0,2],\n",
    "    7: [2,2],\n",
    "    8: [4,2],\n",
    "    9: [5,1],\n",
    "    10:[2,4],\n",
    "    11: [4,4],\n",
    "    12: [5,4],\n",
    "    13: [7,4],\n",
    "    14: [8,4],\n",
    "    15: [4,6],\n",
    "    16: [5,6],\n",
    "    17: [8,6]\n",
    "    \n",
    "}\n",
    "nx.draw(G, pos,node_color = 'palevioletred', node_size = 500, with_labels = True)\n",
    "plt.savefig('ex30.svg')"
   ]
  },
  {
   "cell_type": "code",
   "execution_count": 18,
   "id": "ff68551f",
   "metadata": {},
   "outputs": [
    {
     "data": {
      "text/plain": [
       "OutEdgeView([(1, 2), (1, 6), (2, 3), (2, 7), (3, 4), (3, 8), (3, 9), (4, 5), (4, 9), (5, 14), (6, 7), (6, 10), (7, 8), (7, 10), (8, 9), (8, 11), (9, 13), (9, 12), (13, 14), (13, 17), (14, 17), (10, 11), (10, 15), (11, 12), (11, 15), (15, 16), (12, 13), (16, 17)])"
      ]
     },
     "execution_count": 18,
     "metadata": {},
     "output_type": "execute_result"
    }
   ],
   "source": [
    "G.edges()"
   ]
  },
  {
   "cell_type": "code",
   "execution_count": 19,
   "id": "dbf79963",
   "metadata": {},
   "outputs": [],
   "source": [
    "color_list = ['crimson','black','crimson','black','black','black',\n",
    "              'crimson','black','black','black','black','black',\n",
    "              'black','black','black','black','crimson','black',\n",
    "              'black','crimson','black','black','black','black',\n",
    "              'black','black','black','black',]"
   ]
  },
  {
   "cell_type": "code",
   "execution_count": 21,
   "id": "6aa34428",
   "metadata": {},
   "outputs": [
    {
     "data": {
      "image/png": "[encoded data removed]",
      "text/plain": [
       "<Figure size 432x288 with 1 Axes>"
      ]
     },
     "metadata": {},
     "output_type": "display_data"
    }
   ],
   "source": [
    "\n",
    "nx.draw(G, pos,edge_color = color_list, node_color = 'palevioletred', node_size = 500, with_labels = True)\n",
    "plt.savefig('ex31.svg')"
   ]
  },
  {
   "cell_type": "markdown",
   "id": "8b2144d6",
   "metadata": {},
   "source": [
    "**Question b**"
   ]
  },
  {
   "cell_type": "code",
   "execution_count": null,
   "id": "1fba16b4",
   "metadata": {},
   "outputs": [],
   "source": [
    "def set_capacities(G, c):\n",
    "    for i, edge in enumerate(G.edges):\n",
    "        G[edge[0]][edge[1]]['capacity'] = c[i]"
   ]
  },
  {
   "cell_type": "code",
   "execution_count": null,
   "id": "50c54763",
   "metadata": {},
   "outputs": [],
   "source": [
    "set_capacities(G, C)"
   ]
  },
  {
   "cell_type": "code",
   "execution_count": null,
   "id": "d4904b05",
   "metadata": {},
   "outputs": [],
   "source": [
    "max_flow = nx.maximum_flow_value(G,1, 17)\n",
    "max_flow"
   ]
  },
  {
   "cell_type": "markdown",
   "id": "4577b3b7",
   "metadata": {},
   "source": [
    "**Question c**"
   ]
  },
  {
   "cell_type": "markdown",
   "id": "5ce8ad37",
   "metadata": {},
   "source": [
    "The external inflow is simply obtained by doing the matrix multiplication between the node-link incidence matrix and the network flow vector"
   ]
  },
  {
   "cell_type": "code",
   "execution_count": null,
   "id": "594c0610",
   "metadata": {},
   "outputs": [],
   "source": [
    "nu = B @ f\n",
    "nu"
   ]
  },
  {
   "cell_type": "code",
   "execution_count": null,
   "id": "aaa35a7a",
   "metadata": {},
   "outputs": [],
   "source": [
    "\n",
    "new_nu = np.zeros(len(nu))\n",
    "new_nu[0] = nu[0]\n",
    "new_nu[-1] = -nu[0]\n",
    "nu = new_nu"
   ]
  },
  {
   "cell_type": "code",
   "execution_count": null,
   "id": "91119b9d",
   "metadata": {},
   "outputs": [],
   "source": [
    "nu"
   ]
  },
  {
   "cell_type": "markdown",
   "id": "fdf2cdf3",
   "metadata": {},
   "source": [
    "**Question d**"
   ]
  },
  {
   "cell_type": "code",
   "execution_count": null,
   "id": "60942b9e",
   "metadata": {},
   "outputs": [],
   "source": [
    "fstar = cp.Variable(n_edges)\n",
    "fun = cp.multiply(cp.multiply(l,C), cp.inv_pos(1-cp.multiply(fstar,cp.inv_pos(C)))) - cp.multiply(l,C)\n",
    "objective = cp.Minimize(cp.sum(fun))\n",
    "constraints = [B @ fstar == nu, fstar >=0]\n",
    "prob = cp.Problem(objective, constraints)\n",
    "opt_cos = prob.solve()\n",
    "fstar.value, opt_cos"
   ]
  },
  {
   "cell_type": "markdown",
   "id": "53760ca0",
   "metadata": {},
   "source": [
    "**Question e**"
   ]
  },
  {
   "cell_type": "markdown",
   "id": "c29b614e",
   "metadata": {},
   "source": [
    "The wardrop equilibrium is a path flow distribution such that if path p is used, then the cost of the path is minimal.\n",
    "We say that $f$ is a Wardrop equilibrium if it is induced by a Wardrop equilibrium $z$ via $f=Az$.\n",
    "$f^{(0)}$ is a Wardrop equilibrium if and only if it is solution of a network flow optimization given that the cost functions $\\psi_e(f_e)$ are chosen as\n",
    "\n",
    "$$\n",
    "\\psi_e(f_e) = \\int_0^{f_e} d_e(s)~\\mathrm{d}s.\n",
    "$$\n",
    "For our problem, the objective function is:\n",
    "\\begin{gather*}\n",
    "\\sum _{e\\epsilon \\varepsilon } \\int_{0}^{f_{e}}\\tau _{e}(s)ds\n",
    "\\end{gather*}"
   ]
  },
  {
   "cell_type": "code",
   "execution_count": null,
   "id": "e7d383a2",
   "metadata": {},
   "outputs": [],
   "source": [
    "fwar = cp.Variable(n_edges)\n",
    "delay_func_int  = cp.multiply(-cp.multiply(C, l), cp.log( 1 - cp.multiply(fwar, cp.inv_pos(C))))\n",
    "objective = cp.Minimize(cp.sum(delay_func_int))\n",
    "constraints = [B@fwar == nu, fwar>=0]\n",
    "prob = cp.Problem(objective, constraints)\n",
    "war_eq = prob.solve()\n",
    "fwar.value, war_eq"
   ]
  },
  {
   "cell_type": "code",
   "execution_count": null,
   "id": "22f059b7",
   "metadata": {},
   "outputs": [],
   "source": [
    "def cost(f):\n",
    "    return sum(f*l/(1-f/C))\n",
    "\n",
    "cost_w = cost(fwar.value)\n",
    "cost_w"
   ]
  },
  {
   "cell_type": "code",
   "execution_count": null,
   "id": "d521b583",
   "metadata": {},
   "outputs": [],
   "source": [
    "fwt = cp.Variable(n_edges)\n",
    "w = fstar.value * C*l /(C- fstar.value)**2        #C*l/(C-fstar)^2\n",
    "new_delay = cp.multiply(-cp.multiply(C, l), cp.log( 1 - cp.multiply(fwt, cp.inv_pos(C)))) + cp.multiply(fwt, w)\n",
    "objective = cp.Minimize(cp.sum(new_delay))\n",
    "constraints = [B@fwt==nu, fwt>=0]\n",
    "prob = cp.Problem(objective, constraints)\n",
    "war_toll = prob.solve()\n",
    "\n",
    "fwt.value, war_toll"
   ]
  },
  {
   "cell_type": "code",
   "execution_count": null,
   "id": "36ae7fa7",
   "metadata": {},
   "outputs": [],
   "source": [
    "cost_wt = cost(fwt.value)\n",
    "cost_wt"
   ]
  },
  {
   "cell_type": "markdown",
   "id": "db734414",
   "metadata": {},
   "source": [
    "**Question f**"
   ]
  },
  {
   "cell_type": "code",
   "execution_count": null,
   "id": "063303b7",
   "metadata": {},
   "outputs": [],
   "source": [
    "f_new = cp.Variable(n_edges)\n",
    "new_cost_func = cp.multiply(cp.multiply(l,C), cp.inv_pos(1-cp.multiply(f_new,cp.inv_pos(C)))) - cp.multiply(l,C)\n",
    "   #cp.multiply(f_new, cp.multiply(l,cp.inv_pos( 1 - cp.multiply(f_new, cp.inv_pos(C)))) - l)\n",
    "objective = cp.Minimize(cp.sum(new_cost_func - cp.multiply(f_new,l)))\n",
    "constraints = [B@f_new==nu, f_new>=0]\n",
    "prob = cp.Problem(objective, constraints)\n",
    "new_soc_opt = prob.solve()\n",
    "\n",
    "new_soc_opt, f_new.value\n",
    "new_opt_cost = cost(f_new.value)\n",
    "new_opt_cost\n",
    "f_s = f_new.value\n",
    "#f_s = cp.Variable(n_edges)\n",
    "w_s = ( -f_s * l *(f_s - 2*C) / (f_s - C)**2 ) - l/(1- f_s/C)\n",
    "f_new_war = cp.Variable(n_edges)\n",
    "tau = cp.multiply(l, cp.inv_pos(1 - cp.multiply(f_new_war, cp.inv_pos(C)))) #tau delay function\n",
    "fun = cp.multiply(-cp.multiply(C, l), cp.log( 1 - cp.multiply(f_new_war, cp.inv_pos(C)))) + cp.multiply(f_new_war, w_s)\n",
    "objective = cp.Minimize(\n",
    "    cp.sum(fun)\n",
    ")\n",
    "constraints = [B@f_new_war==nu, f_new_war>=0]\n",
    "prob = cp.Problem(objective, constraints)\n",
    "fin_sol = prob.solve()\n",
    "f_new_war.value, fin_sol\n",
    "cost(f_new_war.value)"
   ]
  }
 ],
 "metadata": {
  "kernelspec": {
   "display_name": "Python 3 (ipykernel)",
   "language": "python",
   "name": "python3"
  },
  "language_info": {
   "codemirror_mode": {
    "name": "ipython",
    "version": 3
   },
   "file_extension": ".py",
   "mimetype": "text/x-python",
   "name": "python",
   "nbconvert_exporter": "python",
   "pygments_lexer": "ipython3",
   "version": "3.9.7"
  }
 },
 "nbformat": 4,
 "nbformat_minor": 5
}
