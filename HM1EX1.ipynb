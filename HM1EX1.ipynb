{
 "cells": [
  {
   "cell_type": "code",
   "execution_count": 10,
   "id": "b2a81c42",
   "metadata": {},
   "outputs": [],
   "source": [
    "import networkx as nx\n",
    "G=nx.DiGraph()\n",
    "import matplotlib.pyplot as plt\n",
    "%matplotlib inline"
   ]
  },
  {
   "cell_type": "code",
   "execution_count": 11,
   "id": "52e5e717",
   "metadata": {},
   "outputs": [],
   "source": [
    "G.add_edges_from([(0,1),(0,2),(1,4),(2,3),(2,4),(3,4)])"
   ]
  },
  {
   "cell_type": "code",
   "execution_count": 12,
   "id": "1411b7aa",
   "metadata": {},
   "outputs": [
    {
     "data": {
      "image/png": "[encoded data removed]",
      "text/plain": [
       "<Figure size 432x288 with 1 Axes>"
      ]
     },
     "metadata": {},
     "output_type": "display_data"
    }
   ],
   "source": [
    "pos = { 0: (1,3), 1: (3,1), 2 : (3,3), 3: (3,5), 4: (5,3)}\n",
    "labels= ['e1', 'e3', 'e2', 'e5', 'e4', 'e6']\n",
    "zip_operator = zip(G.edges(), labels)\n",
    "labels = dict(zip_operator)\n",
    "nx.draw_networkx_edge_labels(G,pos,edge_labels = labels)\n",
    "nx.draw(G, pos, node_color = 'palevioletred', with_labels = True)\n",
    "plt.savefig('ex1.svg')\n"
   ]
  },
  {
   "cell_type": "code",
   "execution_count": 5,
   "id": "6077e076",
   "metadata": {},
   "outputs": [],
   "source": [
    "G[0][2]['capacity'] = 2\n",
    "G[0][1]['capacity'] = 2\n",
    "G[1][4]['capacity'] = 1\n",
    "G[2][4]['capacity'] = 1\n",
    "G[2][3]['capacity'] = 2\n",
    "G[3][4]['capacity'] = 1"
   ]
  },
  {
   "cell_type": "code",
   "execution_count": 6,
   "id": "8f534740",
   "metadata": {},
   "outputs": [
    {
     "data": {
      "text/plain": [
       "(3, {0: {1: 1, 2: 2}, 1: {4: 1}, 2: {3: 1, 4: 1}, 4: {}, 3: {4: 1}})"
      ]
     },
     "execution_count": 6,
     "metadata": {},
     "output_type": "execute_result"
    }
   ],
   "source": [
    "nx.algorithms.flow.maximum_flow(G,0,4)"
   ]
  },
  {
   "cell_type": "code",
   "execution_count": 7,
   "id": "2ad1364f",
   "metadata": {},
   "outputs": [
    {
     "data": {
      "text/plain": [
       "(3, ({0, 1, 2, 3}, {4}))"
      ]
     },
     "execution_count": 7,
     "metadata": {},
     "output_type": "execute_result"
    }
   ],
   "source": [
    "nx.algorithms.flow.minimum_cut(G,0,4)"
   ]
  },
  {
   "cell_type": "markdown",
   "id": "93d7a59c",
   "metadata": {},
   "source": [
    "**Cuts**\n",
    "The min cut is 3, so it can be said that the minimal capacity to remove to make the flow infeasible is 3\n",
    "- $U: \\{0\\}$ ; $U^c: \\{a,b,c,d\\} : C_u = 4$\n",
    "- $U: \\{0,1\\}$ ; $U^c: \\{b,c,d\\} : C_u = 3$\n",
    "- $U: \\{0,2\\}$ ; $U^c: \\{a,c,d\\} : C_u = 5$\n",
    "- $U: \\{0,2,3\\}$ ; $U^c: \\{c,d\\} : C_u = 4$\n",
    "- $U: \\{0,2,3,4\\}$ ; $U^c: \\{d\\} : C_u = 3$"
   ]
  },
  {
   "cell_type": "code",
   "execution_count": null,
   "id": "d355e53d",
   "metadata": {},
   "outputs": [],
   "source": []
  }
 ],
 "metadata": {
  "kernelspec": {
   "display_name": "Python 3 (ipykernel)",
   "language": "python",
   "name": "python3"
  },
  "language_info": {
   "codemirror_mode": {
    "name": "ipython",
    "version": 3
   },
   "file_extension": ".py",
   "mimetype": "text/x-python",
   "name": "python",
   "nbconvert_exporter": "python",
   "pygments_lexer": "ipython3",
   "version": "3.9.7"
  }
 },
 "nbformat": 4,
 "nbformat_minor": 5
}
